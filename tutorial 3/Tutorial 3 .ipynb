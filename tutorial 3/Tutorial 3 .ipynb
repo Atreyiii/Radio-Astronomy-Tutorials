{
 "cells": [
  {
   "cell_type": "markdown",
   "id": "2c1edd36",
   "metadata": {},
   "source": [
    "## Cosmic Body Temperature\n",
    "\n",
    "Since the Big Bang, the Universe has been gradually cooling and expanding. After approximately 400,000 years, it cooled enough (although still at around 3000 degrees Celsius) for the simplest atoms to form, causing it to become transparent. The light emitted during this period has been traveling through space ever since, and we can detect it all around us, both on Earth and in space. This afterglow of the Big Bang is known as the Cosmic Microwave Background (CMB).\n",
    "\n",
    "\n",
    "The expansion of the Universe has stretched out the CMB radiation by around 1000 times, which makes it look much cooler. So instead of seeing the afterglow at 3000 degrees, we see it at just 3o above absolute zero, or 3 Kelvin (-270o C). Just as a burning coal (around 1500 K) glows red, and a hot bright star (around 6000 K) glows yellow or blue, the CMB glow with a characteristic colour associated with it’s temperature. However, because it is so cold, the light which was emitted by the glowing Universe now has a much longer wavelength than we can see with our eyes. The CMB is brightest at a wavelength of around 2 mm, which is around 4000 times longer than the wavelength of the visible light we see with our eyes."
   ]
  },
  {
   "cell_type": "markdown",
   "id": "73d2ef4e",
   "metadata": {},
   "source": [
    "## Planck’s Function\n",
    "\n",
    "The Planck function provides a mathematical description of the spectrum of the light emitted by blackbodies. In terms of the emitted flux per unit frequency interval per unit steradian, the Planck function is given by\n",
    "\n",
    "$B_{T}(\\nu) = \\frac{2h}{c^{2}}\\frac{{\\nu}^{3}}{e^{\\frac{h\\nu}{kT}} - 1}  $\n",
    "\n",
    "where: h = 6.626 × 10−34\n",
    "J s = 6.626 × 10−27\n",
    "erg s is Planck’s constant, k = 1.38 × $10^{−23}$ J $K^{-1}$= 1.38 × $10^{−16}$ ergs $K^{−1}$ is Boltzmann’s constant, c is the speed of light,\n",
    "$\\nu$ is the frequency of the observation,\n",
    "T is the temperature of the radiating body in Kelvins."
   ]
  },
  {
   "cell_type": "markdown",
   "id": "defc6ee3",
   "metadata": {},
   "source": [
    "## Curve Fitting\n",
    "\n",
    "We will use far infrared data adapted from the COBE satellite to fit a blackbody curve to the CMB. We read the file into python and make a plot showing the brightness as a function of frequency. Knowing that it is a blackbody spectrum, we will fit the blackbody function to the data with temperature as the free parameter"
   ]
  },
  {
   "cell_type": "code",
   "execution_count": 9,
   "id": "81c80067",
   "metadata": {},
   "outputs": [],
   "source": [
    "import numpy as np\n",
    "import matplotlib.pyplot as plt\n",
    "from astropy.io import ascii\n",
    "from scipy.optimize import curve_fit"
   ]
  },
  {
   "cell_type": "code",
   "execution_count": 5,
   "id": "fcec5888",
   "metadata": {},
   "outputs": [],
   "source": [
    "cmbdata = ascii.read('COBE_CMB_data.txt') #Reading the data"
   ]
  },
  {
   "cell_type": "code",
   "execution_count": 6,
   "id": "e006dc50",
   "metadata": {},
   "outputs": [
    {
     "data": {
      "text/html": [
       "<div><i>Table length=57</i>\n",
       "<table id=\"table140422391271280\" class=\"table-striped table-bordered table-condensed\">\n",
       "<thead><tr><th>frequency (Hz)</th><th>brightness (ergs/s/cm^2/sr/Hz)</th></tr></thead>\n",
       "<thead><tr><th>float64</th><th>float64</th></tr></thead>\n",
       "<tr><td>34473577711.372055</td><td>7.029471536390586e-16</td></tr>\n",
       "<tr><td>42896956937.69582</td><td>1.0253178228238486e-15</td></tr>\n",
       "<tr><td>51322332225.44733</td><td>1.3544045476166584e-15</td></tr>\n",
       "<tr><td>60344529880.18272</td><td>1.6902073280174815e-15</td></tr>\n",
       "<tr><td>68767909106.5062</td><td>2.0125779972022745e-15</td></tr>\n",
       "<tr><td>77780126454.10146</td><td>2.3148004995630144e-15</td></tr>\n",
       "<tr><td>...</td><td>...</td></tr>\n",
       "<tr><td>489996752265.52826</td><td>3.201319839821188e-16</td></tr>\n",
       "<tr><td>506039097962.6759</td><td>2.5968748350997043e-16</td></tr>\n",
       "<tr><td>523273092332.3638</td><td>2.0595903864583913e-16</td></tr>\n",
       "<tr><td>539918248580.7806</td><td>1.7237876060575648e-16</td></tr>\n",
       "<tr><td>557158231134.7507</td><td>1.3879848256567381e-16</td></tr>\n",
       "<tr><td>573803387383.1646</td><td>1.0521820452559118e-16</td></tr>\n",
       "<tr><td>591049358121.42</td><td>9.178609330955852e-17</td></tr>\n",
       "</table></div>"
      ],
      "text/plain": [
       "<Table length=57>\n",
       "  frequency (Hz)   brightness (ergs/s/cm^2/sr/Hz)\n",
       "     float64                  float64            \n",
       "------------------ ------------------------------\n",
       "34473577711.372055          7.029471536390586e-16\n",
       " 42896956937.69582         1.0253178228238486e-15\n",
       " 51322332225.44733         1.3544045476166584e-15\n",
       " 60344529880.18272         1.6902073280174815e-15\n",
       "  68767909106.5062         2.0125779972022745e-15\n",
       " 77780126454.10146         2.3148004995630144e-15\n",
       "               ...                            ...\n",
       "489996752265.52826          3.201319839821188e-16\n",
       " 506039097962.6759         2.5968748350997043e-16\n",
       " 523273092332.3638         2.0595903864583913e-16\n",
       " 539918248580.7806         1.7237876060575648e-16\n",
       " 557158231134.7507         1.3879848256567381e-16\n",
       " 573803387383.1646         1.0521820452559118e-16\n",
       "   591049358121.42          9.178609330955852e-17"
      ]
     },
     "execution_count": 6,
     "metadata": {},
     "output_type": "execute_result"
    }
   ],
   "source": [
    "cmbdata #Loading the data"
   ]
  },
  {
   "cell_type": "markdown",
   "id": "45aef45d",
   "metadata": {},
   "source": [
    "We see that the data contains Frequency and Brightness data."
   ]
  },
  {
   "cell_type": "code",
   "execution_count": 7,
   "id": "ad9c335b",
   "metadata": {},
   "outputs": [],
   "source": [
    "brightness = cmbdata['brightness (ergs/s/cm^2/sr/Hz)']\n",
    "freq = cmbdata['frequency (Hz)']"
   ]
  },
  {
   "cell_type": "code",
   "execution_count": 12,
   "id": "128217b0",
   "metadata": {},
   "outputs": [],
   "source": [
    "def blackbody(frequency, temperature, scale):   #Defining the Planck's function given below\n",
    "    h = 6.62607015e-34  # Planck constant in J*s\n",
    "    k = 1.380649e-23    # Boltzmann constant in J/K\n",
    "    c = 2.998e8         # Speed of light in m/s\n",
    "\n",
    "    return scale * (2* h * frequency**3 / c**2) * (1 / (np.exp(h * frequency / (k * temperature)) - 1))"
   ]
  },
  {
   "cell_type": "markdown",
   "id": "41f6b250",
   "metadata": {},
   "source": [
    "popt (Optimal Parameters):\n",
    "popt is a 1-dimensional NumPy array that contains the optimal values of the parameters obtained from the curve fitting process. In this case, since the blackbody function is being used, popt will contain two elements: the fitted temperature (temperature_fit) and the fitted scale (scale_fit). The order of these elements in the array corresponds to the order of the parameters in the blackbody function.\n",
    "\n",
    "pcov (Covariance Matrix):\n",
    "pcov is a 2-dimensional NumPy array that represents the estimated covariance of the parameters in popt. The diagonal elements of pcov represent the variances of the fitted parameters (squared standard deviations), and the off-diagonal elements represent the covariances between the parameters.\n",
    "\n",
    "The covariance matrix is useful in determining the uncertainties and correlations between the fitted parameters."
   ]
  },
  {
   "cell_type": "code",
   "execution_count": 15,
   "id": "bc841b8b",
   "metadata": {},
   "outputs": [
    {
     "name": "stdout",
     "output_type": "stream",
     "text": [
      "Fitted Temperature: 2.7514377670818373\n",
      "Fitted Scale: 981.191601790195\n"
     ]
    }
   ],
   "source": [
    "popt, pcov = curve_fit(blackbody, freq, brightness)\n",
    "\n",
    "# Extract the fitted temperature and scale from the 'popt' array\n",
    "# The 'popt' array is expected to contain the fitted temperature at index 0 and the fitted scale at index 11\n",
    "temperature_fit, scale_fit = popt\n",
    "\n",
    "# Print the fitted temperature and scale obtained from the curve fitting\n",
    "print(\"Fitted Temperature:\", temperature_fit)\n",
    "print(\"Fitted Scale:\", scale_fit)"
   ]
  },
  {
   "cell_type": "code",
   "execution_count": 16,
   "id": "36e1312b",
   "metadata": {},
   "outputs": [
    {
     "data": {
      "image/png": "[encoded data removed]",
      "text/plain": [
       "<Figure size 432x288 with 1 Axes>"
      ]
     },
     "metadata": {
      "needs_background": "light"
     },
     "output_type": "display_data"
    }
   ],
   "source": [
    "# Plot the CMB data points as blue dots ('b.') with a label 'CMB Data'\n",
    "plt.plot(freq, brightness, 'b.', label='CMB Data')\n",
    "\n",
    "# Plot the fitted blackbody function using the provided 'temperature_fit' and 'scale_fit' parameters as a red line ('r') with no dots\n",
    "plt.plot(freq, blackbody(freq, temperature_fit, scale_fit), 'r', label='Blackbody Fit')\n",
    "# Add labels to the x and y axes\n",
    "plt.xlabel('Frequency')\n",
    "plt.ylabel('Brightness')\n",
    "# Add a title to the plot\n",
    "plt.title('CMB Data with Blackbody Fit')\n",
    "# Display a legend, which will show labels for each plot (CMB Data and Blackbody Fit) in the plot\n",
    "plt.legend()\n",
    "# Display the plot\n",
    "plt.show()\n"
   ]
  },
  {
   "cell_type": "markdown",
   "id": "52c25322",
   "metadata": {},
   "source": [
    "The plot displays the CMB data points (in blue) along with the blackbody fit (in red) obtained using the blackbody function. The blackbody fit provides a good fit to the CMB data, allowing us to determine the fitted temperature and scale. The temperaturef it represents the fitted temperature of the CMB, and scalef it corresponds to the scale factor applied to the blackbody function to match the data.\n"
   ]
  },
  {
   "cell_type": "markdown",
   "id": "4bdabf2a",
   "metadata": {},
   "source": [
    "Using the blackbody function, we get the optimized CMB temperature to be 2.75 Kelvin"
   ]
  }
 ],
 "metadata": {
  "kernelspec": {
   "display_name": "Python 3 (ipykernel)",
   "language": "python",
   "name": "python3"
  },
  "language_info": {
   "codemirror_mode": {
    "name": "ipython",
    "version": 3
   },
   "file_extension": ".py",
   "mimetype": "text/x-python",
   "name": "python",
   "nbconvert_exporter": "python",
   "pygments_lexer": "ipython3",
   "version": "3.9.12"
  }
 },
 "nbformat": 4,
 "nbformat_minor": 5
}
