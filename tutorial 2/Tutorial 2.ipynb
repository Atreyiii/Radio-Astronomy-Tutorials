{
 "cells": [
  {
   "cell_type": "markdown",
   "id": "e45f99dd",
   "metadata": {},
   "source": [
    "# Plotting the jet afterglow lightcurve of GW170817\n",
    "\n",
    "For the first time, scientists have directly detected gravitational waves — ripples in\n",
    "space-time — in addition to light from the spectacular collision of two neutron stars.\n",
    "This marks the first time that a cosmic event has been viewed in both gravitational\n",
    "waves and light.\n"
   ]
  },
  {
   "cell_type": "markdown",
   "id": "47b8be96",
   "metadata": {},
   "source": [
    "The discovery was made using the U.S.-based Laser Interferometer Gravitational-\n",
    "Wave Observatory (LIGO); the Europe-based Virgo detector; and some 70\n",
    "ground- and space-based observatories.\n",
    "\n"
   ]
  },
  {
   "cell_type": "markdown",
   "id": "fd2baa81",
   "metadata": {},
   "source": [
    "Neutron stars are the smallest, densest stars known to exist and are formed when\n",
    "massive stars explode in supernovas. As these neutron stars spiraled together,\n",
    "they emitted gravitational waves that were detectable for about 100 seconds;\n",
    "when they collided, a flash of light in the form of gamma rays was emitted and\n",
    "seen on Earth about two seconds after the gravitational waves. In the days and\n",
    "weeks following the smashup, other forms of light, or electromagnetic radiation —\n",
    "including X-ray, ultraviolet, optical, infrared, and radio waves — were detected.\n",
    "The observations have given astronomers an unprecedented opportunity to probe\n",
    "a collision of two neutron stars.\n"
   ]
  },
  {
   "cell_type": "markdown",
   "id": "a83c9ed1",
   "metadata": {},
   "source": [
    "We used the data for the non-thermal emission from this source that spans across\n",
    "all frequency bands following a single spectral index of $F_ν ∝ ν^{−0.584}$. The quantity $F_ν$\n",
    "is the flux density, which measures the amount of energy incident on the detector\n",
    "per unit area of the detector, an indicator of the brightness of the source. A\n",
    "lightcurve is this flux density represented as a function of time."
   ]
  },
  {
   "cell_type": "markdown",
   "id": "17855ee9",
   "metadata": {},
   "source": [
    "A lightcurve is this flux density represented as a function of time. The dataset in\n",
    "the ascii format is present at http://www.tauceti.caltech.edu/kunal/gw170817/gw170817_afterglow_\n",
    "data_full.txt which was compiled by Makhathini et al. 2021."
   ]
  },
  {
   "cell_type": "markdown",
   "id": "b29d0b50",
   "metadata": {},
   "source": [
    "In this tutorial, we will download the dataset given and plot the lightcurve choosing all the VLA (https://public.nrao.edu/telescopes/vla/) 3 GHz data points. We will Use astropy and matplotlib to plot the lightcurves."
   ]
  },
  {
   "cell_type": "code",
   "execution_count": 23,
   "id": "d9cb3fb3",
   "metadata": {},
   "outputs": [],
   "source": [
    "import numpy as np\n",
    "import matplotlib.pyplot as plt\n",
    "%matplotlib inline\n",
    "from astropy.io import ascii"
   ]
  },
  {
   "cell_type": "code",
   "execution_count": 24,
   "id": "04bc2cee",
   "metadata": {},
   "outputs": [
    {
     "data": {
      "text/html": [
       "<div><i>Table length=215</i>\n",
       "<table id=\"table140686893541744\" class=\"table-striped table-bordered table-condensed\">\n",
       "<thead><tr><th>DateUT</th><th>T</th><th>Telescope</th><th>Freq</th><th>FluxD</th><th>FluxDErr</th></tr></thead>\n",
       "<thead><tr><th>str24</th><th>float64</th><th>str10</th><th>float64</th><th>str7</th><th>float64</th></tr></thead>\n",
       "<tr><td>2017-Aug-18.10</td><td>0.57</td><td>VLA</td><td>9700000000.0</td><td>&lt;144</td><td>--</td></tr>\n",
       "<tr><td>2017-Aug-18.1</td><td>0.6</td><td>Swift</td><td>2.41e+17</td><td>&lt;7.8e-3</td><td>--</td></tr>\n",
       "<tr><td>2017-Aug-18.21</td><td>0.68</td><td>ATCA</td><td>8500000000.0</td><td>&lt;120</td><td>--</td></tr>\n",
       "<tr><td>2017-Aug-18.21</td><td>0.68</td><td>ATCA</td><td>10500000000.0</td><td>&lt;150</td><td>--</td></tr>\n",
       "<tr><td>2017-Aug-18.2</td><td>0.7</td><td>NuSTAR</td><td>1.2e+18</td><td>&lt;7.3e-4</td><td>--</td></tr>\n",
       "<tr><td>2017-Aug-18.46</td><td>0.93</td><td>uGMRT</td><td>610000000.0</td><td>&lt;195</td><td>--</td></tr>\n",
       "<tr><td>...</td><td>...</td><td>...</td><td>...</td><td>...</td><td>...</td></tr>\n",
       "<tr><td>2021-Feb-20</td><td>1283.0</td><td>ATCA</td><td>2100000000.0</td><td>&lt;75</td><td>--</td></tr>\n",
       "<tr><td>2021-Apr-06</td><td>1328.0</td><td>ATCA</td><td>2100000000.0</td><td>&lt;54</td><td>--</td></tr>\n",
       "<tr><td>2021-Apr-08</td><td>1330.0</td><td>ATCA</td><td>5500000000.0</td><td>&lt;44</td><td>--</td></tr>\n",
       "<tr><td>2021-Apr-08</td><td>1330.0</td><td>ATCA</td><td>9000000000.0</td><td>&lt;31</td><td>--</td></tr>\n",
       "<tr><td>2020-Dec-09--2021-Jan-27</td><td>1231.0</td><td>Chandra</td><td>2.41e+17</td><td>1.70e-4</td><td>4.7e-05</td></tr>\n",
       "<tr><td>2020-Sep-19--2021-Feb-08</td><td>1228.0</td><td>VLA</td><td>3000000000.0</td><td>2.86e0</td><td>0.99</td></tr>\n",
       "<tr><td>2020-Feb-10</td><td>1273.0</td><td>VLA</td><td>15000000000.0</td><td>&lt;5.7</td><td>--</td></tr>\n",
       "</table></div>"
      ],
      "text/plain": [
       "<Table length=215>\n",
       "         DateUT             T    Telescope      Freq      FluxD  FluxDErr\n",
       "         str24           float64   str10      float64      str7  float64 \n",
       "------------------------ ------- --------- ------------- ------- --------\n",
       "          2017-Aug-18.10    0.57       VLA  9700000000.0    <144       --\n",
       "           2017-Aug-18.1     0.6     Swift      2.41e+17 <7.8e-3       --\n",
       "          2017-Aug-18.21    0.68      ATCA  8500000000.0    <120       --\n",
       "          2017-Aug-18.21    0.68      ATCA 10500000000.0    <150       --\n",
       "           2017-Aug-18.2     0.7    NuSTAR       1.2e+18 <7.3e-4       --\n",
       "          2017-Aug-18.46    0.93     uGMRT   610000000.0    <195       --\n",
       "                     ...     ...       ...           ...     ...      ...\n",
       "             2021-Feb-20  1283.0      ATCA  2100000000.0     <75       --\n",
       "             2021-Apr-06  1328.0      ATCA  2100000000.0     <54       --\n",
       "             2021-Apr-08  1330.0      ATCA  5500000000.0     <44       --\n",
       "             2021-Apr-08  1330.0      ATCA  9000000000.0     <31       --\n",
       "2020-Dec-09--2021-Jan-27  1231.0   Chandra      2.41e+17 1.70e-4  4.7e-05\n",
       "2020-Sep-19--2021-Feb-08  1228.0       VLA  3000000000.0  2.86e0     0.99\n",
       "             2020-Feb-10  1273.0       VLA 15000000000.0    <5.7       --"
      ]
     },
     "execution_count": 24,
     "metadata": {},
     "output_type": "execute_result"
    }
   ],
   "source": [
    "data = ascii.read('gw170817_afterglow_data_full.txt')\n",
    "data"
   ]
  },
  {
   "cell_type": "markdown",
   "id": "c6ddaa77",
   "metadata": {},
   "source": [
    "Reading the data is always very vital, now we see the frequencies, telescopes and the flux densities. Our job now is to seperate the VLA 3Ghz data points out."
   ]
  },
  {
   "cell_type": "code",
   "execution_count": 25,
   "id": "3b90fa47",
   "metadata": {},
   "outputs": [
    {
     "data": {
      "text/html": [
       "<div><i>Table length=25</i>\n",
       "<table id=\"table140686893542944\" class=\"table-striped table-bordered table-condensed\">\n",
       "<thead><tr><th>DateUT</th><th>T</th><th>Telescope</th><th>Freq</th><th>FluxD</th><th>FluxDErr</th></tr></thead>\n",
       "<thead><tr><th>str24</th><th>float64</th><th>str10</th><th>float64</th><th>str7</th><th>float64</th></tr></thead>\n",
       "<tr><td>2017-Aug-20.87</td><td>3.34</td><td>VLA</td><td>3000000000.0</td><td>&lt;32</td><td>--</td></tr>\n",
       "<tr><td>2017-Aug-22.88</td><td>3.35</td><td>VLA</td><td>3000000000.0</td><td>&lt;19</td><td>--</td></tr>\n",
       "<tr><td>2017-Sep-2.9</td><td>16.4</td><td>VLA</td><td>3000000000.0</td><td>1.87e1</td><td>6.3</td></tr>\n",
       "<tr><td>2017-Sep-3.9</td><td>17.4</td><td>VLA</td><td>3000000000.0</td><td>1.51e1</td><td>3.9</td></tr>\n",
       "<tr><td>2017-Sep-4.9</td><td>18.3</td><td>VLA</td><td>3000000000.0</td><td>1.45e1</td><td>3.7</td></tr>\n",
       "<tr><td>2017-Sep-8.9</td><td>22.4</td><td>VLA</td><td>3000000000.0</td><td>2.25e1</td><td>3.4</td></tr>\n",
       "<tr><td>...</td><td>...</td><td>...</td><td>...</td><td>...</td><td>...</td></tr>\n",
       "<tr><td>2018-May-12</td><td>267.0</td><td>VLA</td><td>3000000000.0</td><td>4.03e1</td><td>2.7</td></tr>\n",
       "<tr><td>2018-May-17</td><td>273.0</td><td>VLA</td><td>3000000000.0</td><td>3.48e1</td><td>4.9</td></tr>\n",
       "<tr><td>2018-Jun-2</td><td>289.0</td><td>VLA</td><td>3000000000.0</td><td>3.63e1</td><td>3.9</td></tr>\n",
       "<tr><td>2018-Jun-7</td><td>294.0</td><td>VLA</td><td>3000000000.0</td><td>3.12e1</td><td>3.6</td></tr>\n",
       "<tr><td>2018-Dec-18--20</td><td>489.0</td><td>VLA</td><td>3000000000.0</td><td>1.48e1</td><td>2.9</td></tr>\n",
       "<tr><td>2019-Sep-21--27</td><td>767.0</td><td>VLA</td><td>3000000000.0</td><td>4.90e0</td><td>1.8</td></tr>\n",
       "<tr><td>2020-Sep-19--2021-Feb-08</td><td>1228.0</td><td>VLA</td><td>3000000000.0</td><td>2.86e0</td><td>0.99</td></tr>\n",
       "</table></div>"
      ],
      "text/plain": [
       "<Table length=25>\n",
       "         DateUT             T    Telescope     Freq     FluxD  FluxDErr\n",
       "         str24           float64   str10     float64     str7  float64 \n",
       "------------------------ ------- --------- ------------ ------ --------\n",
       "          2017-Aug-20.87    3.34       VLA 3000000000.0    <32       --\n",
       "          2017-Aug-22.88    3.35       VLA 3000000000.0    <19       --\n",
       "            2017-Sep-2.9    16.4       VLA 3000000000.0 1.87e1      6.3\n",
       "            2017-Sep-3.9    17.4       VLA 3000000000.0 1.51e1      3.9\n",
       "            2017-Sep-4.9    18.3       VLA 3000000000.0 1.45e1      3.7\n",
       "            2017-Sep-8.9    22.4       VLA 3000000000.0 2.25e1      3.4\n",
       "                     ...     ...       ...          ...    ...      ...\n",
       "             2018-May-12   267.0       VLA 3000000000.0 4.03e1      2.7\n",
       "             2018-May-17   273.0       VLA 3000000000.0 3.48e1      4.9\n",
       "              2018-Jun-2   289.0       VLA 3000000000.0 3.63e1      3.9\n",
       "              2018-Jun-7   294.0       VLA 3000000000.0 3.12e1      3.6\n",
       "         2018-Dec-18--20   489.0       VLA 3000000000.0 1.48e1      2.9\n",
       "         2019-Sep-21--27   767.0       VLA 3000000000.0 4.90e0      1.8\n",
       "2020-Sep-19--2021-Feb-08  1228.0       VLA 3000000000.0 2.86e0     0.99"
      ]
     },
     "execution_count": 25,
     "metadata": {},
     "output_type": "execute_result"
    }
   ],
   "source": [
    "# Filter the data for VLA telescopes and 3 GHz frequency\n",
    "vla_data = data[(data['Telescope'] == 'VLA') & (data['Freq'] == 3e9)]\n",
    "\n",
    "# Extract the time, flux and flux error columns from the filtered data\n",
    "time_vla = vla_data['T']\n",
    "flux_vla = vla_data['FluxD']\n",
    "flux_error_vla = vla_data['FluxDErr']\n",
    "\n",
    "\n",
    "vla_data"
   ]
  },
  {
   "cell_type": "code",
   "execution_count": 26,
   "id": "d23fb861",
   "metadata": {},
   "outputs": [],
   "source": [
    "#Remove the data points which have non float Flux Densities or contain no Flux Density Error\n",
    "\n",
    "flux_vla = flux_vla[2:]\n",
    "time_vla = time_vla[2:]\n",
    "flux_vla  = flux_vla.astype(float)\n",
    "flux_error_vla = flux_error_vla[2:]"
   ]
  },
  {
   "cell_type": "code",
   "execution_count": 27,
   "id": "d34d68c2",
   "metadata": {},
   "outputs": [
    {
     "name": "stderr",
     "output_type": "stream",
     "text": [
      "No artists with labels found to put in legend.  Note that artists whose label start with an underscore are ignored when legend() is called with no argument.\n"
     ]
    },
    {
     "data": {
      "image/png": "[encoded data removed]",
      "text/plain": [
       "<Figure size 432x288 with 1 Axes>"
      ]
     },
     "metadata": {
      "needs_background": "light"
     },
     "output_type": "display_data"
    }
   ],
   "source": [
    "# Plot the lightcurve\n",
    "plt.plot(time_vla, flux_vla )\n",
    "plt.errorbar(time_vla,flux_vla,yerr=flux_error_vla,fmt='.',color='b')\n",
    "plt.xlabel('Time')\n",
    "plt.ylabel('Flux')\n",
    "plt.title('VLA 3 GHz Lightcurve')\n",
    "\n",
    "yticks = [1, 10, 100, 1000]\n",
    "plt.yscale('log') \n",
    "plt.yticks(yticks)\n",
    "\n",
    "\n",
    "xticks = [10,50,100,500,1000]\n",
    "plt.xscale('log')\n",
    "plt.xticks(xticks)\n",
    "\n",
    "plt.legend()\n",
    "    \n",
    "plt.show()"
   ]
  },
  {
   "cell_type": "markdown",
   "id": "fd7fcf80",
   "metadata": {},
   "source": [
    "\n",
    "Using a logarithmic (log) scale for both the x-axis and y-axis in the lightcurve plot is necessary due to the wide range of astronomical data, particularly flux measurements. A linear scale might lead to a crowded or compressed plot, making it difficult to interpret variations accurately. By employing a log scale, the plot expands the data range, ensuring visibility of both faint and bright sources and highlighting variability. Moreover, a log-log plot simplifies the representation of power-law relationships and conveys multiplicative changes in flux effectively. Overall, the log scale enhances the visualization and understanding of radio astronomy data, making it easier to analyze fluctuations in flux measurements and detect significant patterns in the lightcurve."
   ]
  },
  {
   "cell_type": "markdown",
   "id": "5cac2588",
   "metadata": {},
   "source": [
    "We choose another instrument, say Chandra (https://chandra.harvard.edu/) an X-ray instrument\n",
    "that has observations of our source at 2.41 × $10^{17}$ Hz. Let's make the lightcurve corresponding to Chandra X ray telescope now."
   ]
  },
  {
   "cell_type": "code",
   "execution_count": 28,
   "id": "785d1139",
   "metadata": {},
   "outputs": [
    {
     "data": {
      "text/html": [
       "<div><i>Table length=11</i>\n",
       "<table id=\"table140686083373712\" class=\"table-striped table-bordered table-condensed\">\n",
       "<thead><tr><th>DateUT</th><th>T</th><th>Telescope</th><th>Freq</th><th>FluxD</th><th>FluxDErr</th></tr></thead>\n",
       "<thead><tr><th>str24</th><th>float64</th><th>str10</th><th>float64</th><th>str7</th><th>float64</th></tr></thead>\n",
       "<tr><td>2017-Aug-19.9</td><td>2.4</td><td>Chandra</td><td>2.41e+17</td><td>&lt;2.3e-4</td><td>--</td></tr>\n",
       "<tr><td>2017-Aug-26.7</td><td>9.2</td><td>Chandra</td><td>2.41e+17</td><td>4.48e-4</td><td>0.000131</td></tr>\n",
       "<tr><td>2017-Sep-01.4</td><td>14.9</td><td>Chandra</td><td>2.41e+17</td><td>5.11e-4</td><td>9.6e-05</td></tr>\n",
       "<tr><td>2017-Dec-04</td><td>109.0</td><td>Chandra</td><td>2.41e+17</td><td>2.11e-3</td><td>0.000185</td></tr>\n",
       "<tr><td>2018-Jan-23</td><td>158.0</td><td>Chandra</td><td>2.41e+17</td><td>2.19e-3</td><td>0.000183</td></tr>\n",
       "<tr><td>2018-May-04</td><td>259.0</td><td>Chandra</td><td>2.41e+17</td><td>1.15e-3</td><td>0.00014</td></tr>\n",
       "<tr><td>2018-Aug-10</td><td>357.0</td><td>Chandra</td><td>2.41e+17</td><td>7.12e-4</td><td>0.000136</td></tr>\n",
       "<tr><td>2019-Mar-22</td><td>581.0</td><td>Chandra</td><td>2.41e+17</td><td>2.63e-4</td><td>7.05e-05</td></tr>\n",
       "<tr><td>2019-Aug-29</td><td>741.0</td><td>Chandra</td><td>2.41e+17</td><td>2.19e-4</td><td>7.31e-05</td></tr>\n",
       "<tr><td>2020-Mar-13</td><td>938.0</td><td>Chandra</td><td>2.41e+17</td><td>1.30e-4</td><td>5.23e-05</td></tr>\n",
       "<tr><td>2020-Dec-09--2021-Jan-27</td><td>1231.0</td><td>Chandra</td><td>2.41e+17</td><td>1.70e-4</td><td>4.7e-05</td></tr>\n",
       "</table></div>"
      ],
      "text/plain": [
       "<Table length=11>\n",
       "         DateUT             T    Telescope   Freq    FluxD  FluxDErr\n",
       "         str24           float64   str10   float64    str7  float64 \n",
       "------------------------ ------- --------- -------- ------- --------\n",
       "           2017-Aug-19.9     2.4   Chandra 2.41e+17 <2.3e-4       --\n",
       "           2017-Aug-26.7     9.2   Chandra 2.41e+17 4.48e-4 0.000131\n",
       "           2017-Sep-01.4    14.9   Chandra 2.41e+17 5.11e-4  9.6e-05\n",
       "             2017-Dec-04   109.0   Chandra 2.41e+17 2.11e-3 0.000185\n",
       "             2018-Jan-23   158.0   Chandra 2.41e+17 2.19e-3 0.000183\n",
       "             2018-May-04   259.0   Chandra 2.41e+17 1.15e-3  0.00014\n",
       "             2018-Aug-10   357.0   Chandra 2.41e+17 7.12e-4 0.000136\n",
       "             2019-Mar-22   581.0   Chandra 2.41e+17 2.63e-4 7.05e-05\n",
       "             2019-Aug-29   741.0   Chandra 2.41e+17 2.19e-4 7.31e-05\n",
       "             2020-Mar-13   938.0   Chandra 2.41e+17 1.30e-4 5.23e-05\n",
       "2020-Dec-09--2021-Jan-27  1231.0   Chandra 2.41e+17 1.70e-4  4.7e-05"
      ]
     },
     "execution_count": 28,
     "metadata": {},
     "output_type": "execute_result"
    }
   ],
   "source": [
    "# Filter the data for Chandra telescope and viewing the data\n",
    "chandra_data = data[(data['Telescope'] == 'Chandra') & (data['Freq'] == 2.41e17)]\n",
    "\n",
    "chandra_data"
   ]
  },
  {
   "cell_type": "code",
   "execution_count": 29,
   "id": "fd176b95",
   "metadata": {},
   "outputs": [],
   "source": [
    "# Extract the time,fluxa nd flux error columns from the filtered data\n",
    "\n",
    "\n",
    "time_chandra = chandra_data['T']\n",
    "flux_chandra = chandra_data['FluxD']\n",
    "flux_chandra_error = chandra_data['FluxDErr']\n",
    "\n",
    "\n",
    "#Remove the data points which have non float Flux Densities or contain no Flux Density Error\n",
    "\n",
    "flux_chandra = flux_chandra[1:]\n",
    "time_chandra = time_chandra[1:]\n",
    "flux_chandra = flux_chandra.astype(float)\n",
    "flux_chandra_error = flux_chandra_error[1:]\n"
   ]
  },
  {
   "cell_type": "code",
   "execution_count": 30,
   "id": "4c2fd739",
   "metadata": {},
   "outputs": [
    {
     "name": "stderr",
     "output_type": "stream",
     "text": [
      "No artists with labels found to put in legend.  Note that artists whose label start with an underscore are ignored when legend() is called with no argument.\n"
     ]
    },
    {
     "data": {
      "image/png": "[encoded data removed]",
      "text/plain": [
       "<Figure size 432x288 with 1 Axes>"
      ]
     },
     "metadata": {
      "needs_background": "light"
     },
     "output_type": "display_data"
    }
   ],
   "source": [
    "# Plot the lightcurve\n",
    "plt.plot(time_chandra, flux_chandra)\n",
    "plt.errorbar(time_chandra, flux_chandra, yerr= flux_chandra_error, fmt='.', color= 'b' )\n",
    "plt.plot\n",
    "plt.xlabel('Time')\n",
    "plt.ylabel('Flux')\n",
    "plt.title('Chandra 2.41e17 Lightcurve')\n",
    "\n",
    "yticks = [10e-2, 10e-3, 10e-4]\n",
    "plt.yscale('log') \n",
    "plt.yticks(yticks)\n",
    "\n",
    "\n",
    "xticks = [10,50,100,500,1000]\n",
    "plt.xscale('log')\n",
    "plt.xticks(xticks)\n",
    "\n",
    "plt.legend()\n",
    "plt.show()"
   ]
  },
  {
   "cell_type": "markdown",
   "id": "448cd876",
   "metadata": {},
   "source": [
    "Now let us Scale the Chandra flux densities to 3 GHz using $Fν ∝ ν^{−0.584}$ and over plot the Chandra data points over the VLA 3 GHz data points that we just plotted."
   ]
  },
  {
   "cell_type": "code",
   "execution_count": 31,
   "id": "3f7ef093",
   "metadata": {},
   "outputs": [],
   "source": [
    "def scale(Freq1,FluxD1,Freq2):   #defining the scale function \n",
    "    return FluxD1*(Freq2/Freq1)**(-0.584)  \n",
    "\n",
    "Scaled_Flux = scale(2.41e17,flux_chandra,3.0e9)"
   ]
  },
  {
   "cell_type": "code",
   "execution_count": 32,
   "id": "d3941e8b",
   "metadata": {},
   "outputs": [
    {
     "data": {
      "text/plain": [
       "Text(0, 0.5, 'Flux')"
      ]
     },
     "execution_count": 32,
     "metadata": {},
     "output_type": "execute_result"
    },
    {
     "data": {
      "image/png": "[encoded data removed]",
      "text/plain": [
       "<Figure size 432x288 with 1 Axes>"
      ]
     },
     "metadata": {
      "needs_background": "light"
     },
     "output_type": "display_data"
    }
   ],
   "source": [
    "#Plotting both chandra scaled fux and vla flux together\n",
    "\n",
    "plt.plot(time_chandra, Scaled_Flux)\n",
    "plt.plot(time_vla, flux_vla, 'green')\n",
    "plt.xlabel('Time')\n",
    "plt.ylabel('Flux')"
   ]
  }
 ],
 "metadata": {
  "kernelspec": {
   "display_name": "Python 3 (ipykernel)",
   "language": "python",
   "name": "python3"
  },
  "language_info": {
   "codemirror_mode": {
    "name": "ipython",
    "version": 3
   },
   "file_extension": ".py",
   "mimetype": "text/x-python",
   "name": "python",
   "nbconvert_exporter": "python",
   "pygments_lexer": "ipython3",
   "version": "3.9.12"
  }
 },
 "nbformat": 4,
 "nbformat_minor": 5
}
